{
 "cells": [
  {
   "cell_type": "markdown",
   "metadata": {},
   "source": [
    "# In-depth Analysis of the Blood Donation Dataset\n",
    "### Joseph Petersen - Springboard Capstone 1"
   ]
  },
  {
   "cell_type": "code",
   "execution_count": 165,
   "metadata": {},
   "outputs": [],
   "source": [
    "%matplotlib inline\n",
    "import pandas as pd\n",
    "import numpy as np\n",
    "import matplotlib.pyplot as plt\n",
    "import seaborn as sns\n",
    "import statsmodels.api as sm\n",
    "from scipy import stats\n",
    "from sklearn.model_selection import train_test_split, RandomizedSearchCV, GridSearchCV, cross_val_score\n",
    "from sklearn.linear_model import LogisticRegression\n",
    "from sklearn.metrics import accuracy_score, classification_report, confusion_matrix, roc_curve, roc_auc_score\n",
    "from sklearn.ensemble import RandomForestClassifier\n",
    "from sklearn.svm import SVC, LinearSVC\n",
    "from sklearn.pipeline import Pipeline\n",
    "from sklearn.preprocessing import StandardScaler\n",
    "from sklearn.neighbors import KNeighborsClassifier\n",
    "from imblearn.over_sampling import SMOTE\n",
    "from sklearn.calibration import CalibratedClassifierCV\n",
    "\n",
    "plt.style.use('ggplot')"
   ]
  },
  {
   "cell_type": "code",
   "execution_count": 166,
   "metadata": {},
   "outputs": [],
   "source": [
    "# Read in the csv file\n",
    "df = pd.read_csv('data/transfusion.csv')\n",
    "# Rename the columns for clarity\n",
    "df.columns = ['months_since_last', 'total_times_donated', 'total_cc_blood_donated', 'months_since_first', \n",
    "              'donated_march_2007']\n",
    "# Calculate the frequency column\n",
    "df['frequency'] = df.months_since_first / df.total_times_donated\n",
    "# Reindex into a more logical structure\n",
    "df = df.reindex(columns=['months_since_first', 'months_since_last', 'total_times_donated', 'total_cc_blood_donated', \n",
    "                         'frequency', 'donated_march_2007'])\n",
    "\n",
    "df_wb = df.copy() # Dataframe with total blood intact\n",
    "df = df.drop('total_cc_blood_donated', axis=1) # Dataframe without total blood\n",
    "df_nf = df.drop('frequency', axis=1) # Dataframe without frequency\n",
    "df_min = df.drop(['months_since_first', 'total_times_donated'], axis=1) # Dataframe just frequency and recency"
   ]
  },
  {
   "cell_type": "code",
   "execution_count": 167,
   "metadata": {},
   "outputs": [
    {
     "name": "stdout",
     "output_type": "stream",
     "text": [
      "<class 'pandas.core.frame.DataFrame'>\n",
      "RangeIndex: 748 entries, 0 to 747\n",
      "Data columns (total 5 columns):\n",
      "months_since_first     748 non-null int64\n",
      "months_since_last      748 non-null int64\n",
      "total_times_donated    748 non-null int64\n",
      "frequency              748 non-null float64\n",
      "donated_march_2007     748 non-null int64\n",
      "dtypes: float64(1), int64(4)\n",
      "memory usage: 29.3 KB\n"
     ]
    }
   ],
   "source": [
    "df.info()"
   ]
  },
  {
   "cell_type": "code",
   "execution_count": 168,
   "metadata": {},
   "outputs": [],
   "source": [
    "def adjusted_threshold(y_scores, t):\n",
    "\n",
    "    # This function adjusts predictions or a probability array based on the threshold 't' value\n",
    "    # It looks at the probability of the '1' in a binary response variable\n",
    "    \n",
    "    return [1 if y[1] >= t else 0 for y in y_scores]\n",
    "\n",
    "def con_mat(model, X_train, X_test, y_train, y_test, y_pred):\n",
    "\n",
    "    # This function takes  train/test and prediction data to produce a\n",
    "    # graphed confusion matrix and classification report\n",
    "    \n",
    "    cm = confusion_matrix(y_test, y_pred)\n",
    "    labels=['Non-Returners', 'Returners']\n",
    "    print(cm)\n",
    "    fig = plt.figure()\n",
    "    ax = fig.add_subplot(111)\n",
    "    cax = ax.matshow(cm)\n",
    "    plt.title('Confusion matrix of donated_march_2007')\n",
    "    ttl = ax.title\n",
    "    ttl.set_position([.5, 1.1])\n",
    "    fig.colorbar(cax)\n",
    "    ax.set_xticklabels([''] + labels)\n",
    "    ax.set_yticklabels([''] + labels)\n",
    "    for i in range(len(labels)):\n",
    "        for j in range(len(labels)):\n",
    "            text = ax.text(j, i, cm[i, j],\n",
    "                           ha=\"center\", va=\"center\", color=\"w\", fontsize=24)\n",
    "    plt.xlabel('Predicted')\n",
    "    plt.ylabel('True')\n",
    "    plt.show()\n",
    "    print(classification_report(y_test, y_pred))\n",
    "    "
   ]
  },
  {
   "cell_type": "markdown",
   "metadata": {},
   "source": [
    "## Logistic Regression Model"
   ]
  },
  {
   "cell_type": "code",
   "execution_count": 169,
   "metadata": {},
   "outputs": [
    {
     "name": "stdout",
     "output_type": "stream",
     "text": [
      "Distribution of response variable (full dataset):\n",
      "0    570\n",
      "1    178\n",
      "Name: donated_march_2007, dtype: int64\n",
      "Mean: 0.23796791443850268\n"
     ]
    }
   ],
   "source": [
    "print(\"Distribution of response variable (full dataset):\")\n",
    "print(df.donated_march_2007.value_counts())\n",
    "print(\"Mean:\", df.donated_march_2007.mean())"
   ]
  },
  {
   "cell_type": "markdown",
   "metadata": {},
   "source": [
    "The response variable is unbalanced. Only about 24% of the response column is a returner (1) with the rest being non-returners (0). We're going to balance it by upscaling using SMOTE, but first we need to split the data into training/testing sets."
   ]
  },
  {
   "cell_type": "code",
   "execution_count": 170,
   "metadata": {},
   "outputs": [
    {
     "name": "stdout",
     "output_type": "stream",
     "text": [
      "Distribution of response variable (training set):\n",
      "0    458\n",
      "1    140\n",
      "dtype: int64\n",
      "Mean: 0.23411371237458195\n"
     ]
    }
   ],
   "source": [
    "# Split the data into training/testing sets\n",
    "X_train, X_test, y_train, y_test = train_test_split(df.drop('donated_march_2007', axis=1).values, \n",
    "                                             df.donated_march_2007.values, random_state=23, test_size=0.2)\n",
    "\n",
    "print(\"Distribution of response variable (training set):\")\n",
    "print(pd.Series(y_train).value_counts())\n",
    "print(\"Mean:\", y_train.mean())"
   ]
  },
  {
   "cell_type": "markdown",
   "metadata": {},
   "source": [
    "### Unbalanced Logistic Regression"
   ]
  },
  {
   "cell_type": "markdown",
   "metadata": {},
   "source": [
    "Before we upscale, let's take a look at what a logistic regression model can do with the data as is."
   ]
  },
  {
   "cell_type": "code",
   "execution_count": 171,
   "metadata": {},
   "outputs": [
    {
     "name": "stdout",
     "output_type": "stream",
     "text": [
      "Tuned LR Parameters: {'C': 2.7825594022071245, 'penalty': 'l2'}\n",
      "Best score: 0.7842809364548495\n"
     ]
    }
   ],
   "source": [
    "# Tuning the parameters\n",
    "Cs = np.logspace(0, 4, 10)\n",
    "penalty=['l1', 'l2']\n",
    "param_grid = {'C':Cs, \n",
    "              'penalty':penalty}\n",
    "logreg = LogisticRegression(solver='liblinear')\n",
    "logreg_cv = GridSearchCV(logreg, param_grid, cv=5)\n",
    "logreg_cv.fit(X_train, y_train)\n",
    "\n",
    "print(\"Tuned LR Parameters: {}\".format(logreg_cv.best_params_)) \n",
    "print(\"Best score: {}\".format(logreg_cv.best_score_))"
   ]
  },
  {
   "cell_type": "code",
   "execution_count": 172,
   "metadata": {},
   "outputs": [],
   "source": [
    "best_c = logreg_cv.best_params_['C']\n",
    "best_p = logreg_cv.best_params_['penalty']"
   ]
  },
  {
   "cell_type": "code",
   "execution_count": 173,
   "metadata": {},
   "outputs": [
    {
     "name": "stdout",
     "output_type": "stream",
     "text": [
      "Model Accuracy: 0.72\n"
     ]
    }
   ],
   "source": [
    "logreg = LogisticRegression(C=best_c, penalty=best_p, solver='liblinear')\n",
    "logreg.fit(X_train, y_train)\n",
    "print(\"Model Accuracy:\", accuracy_score(logreg.predict(X_test), y_test))"
   ]
  },
  {
   "cell_type": "code",
   "execution_count": 174,
   "metadata": {},
   "outputs": [
    {
     "name": "stdout",
     "output_type": "stream",
     "text": [
      "[[107   5]\n",
      " [ 37   1]]\n"
     ]
    },
    {
     "data": {
      "image/png": "[encoded data removed]",
      "text/plain": [
       "<Figure size 432x288 with 2 Axes>"
      ]
     },
     "metadata": {},
     "output_type": "display_data"
    },
    {
     "name": "stdout",
     "output_type": "stream",
     "text": [
      "              precision    recall  f1-score   support\n",
      "\n",
      "           0       0.74      0.96      0.84       112\n",
      "           1       0.17      0.03      0.05        38\n",
      "\n",
      "   micro avg       0.72      0.72      0.72       150\n",
      "   macro avg       0.45      0.49      0.44       150\n",
      "weighted avg       0.60      0.72      0.64       150\n",
      "\n"
     ]
    }
   ],
   "source": [
    "y_pred = logreg.predict(X_test)\n",
    "con_mat(logreg, X_train, X_test, y_train, y_test, y_pred)"
   ]
  },
  {
   "cell_type": "markdown",
   "metadata": {},
   "source": [
    "As the above confusion matrix shows, an out-of-the-box logistic regression model can get a relatively high accuracy. However, it misclassifies the vast majority of the 1's. The accuracy remains high due to the imbalanced response variable despite precision and recall of the response variable being very low.\n",
    "\n",
    "The logistic regression classifier has a parameter 'class_weight' which deals with unbalanced data. For other models, the training set will need to be upsampled."
   ]
  },
  {
   "cell_type": "code",
   "execution_count": 175,
   "metadata": {},
   "outputs": [
    {
     "name": "stdout",
     "output_type": "stream",
     "text": [
      "Model Accuracy: 0.6466666666666666\n"
     ]
    }
   ],
   "source": [
    "logreg = LogisticRegression(C=best_c, penalty=best_p, solver='liblinear', class_weight='balanced')\n",
    "logreg.fit(X_train, y_train)\n",
    "print(\"Model Accuracy:\", accuracy_score(logreg.predict(X_test), y_test))"
   ]
  },
  {
   "cell_type": "code",
   "execution_count": 176,
   "metadata": {},
   "outputs": [
    {
     "name": "stdout",
     "output_type": "stream",
     "text": [
      "[[68 44]\n",
      " [ 9 29]]\n"
     ]
    },
    {
     "data": {
      "image/png": "[encoded data removed]",
      "text/plain": [
       "<Figure size 432x288 with 2 Axes>"
      ]
     },
     "metadata": {},
     "output_type": "display_data"
    },
    {
     "name": "stdout",
     "output_type": "stream",
     "text": [
      "              precision    recall  f1-score   support\n",
      "\n",
      "           0       0.88      0.61      0.72       112\n",
      "           1       0.40      0.76      0.52        38\n",
      "\n",
      "   micro avg       0.65      0.65      0.65       150\n",
      "   macro avg       0.64      0.69      0.62       150\n",
      "weighted avg       0.76      0.65      0.67       150\n",
      "\n"
     ]
    }
   ],
   "source": [
    "y_pred = logreg.predict(X_test)\n",
    "con_mat(logreg, X_train, X_test, y_train, y_test, y_pred)"
   ]
  },
  {
   "cell_type": "markdown",
   "metadata": {},
   "source": [
    "The linear SVM model also has a class weight parameter. Let's try that before upsampling."
   ]
  },
  {
   "cell_type": "code",
   "execution_count": 177,
   "metadata": {},
   "outputs": [
    {
     "name": "stdout",
     "output_type": "stream",
     "text": [
      "Tuned SVM Parameters: {'C': 0.01}\n",
      "Best score: 0.7927018633540373\n"
     ]
    }
   ],
   "source": [
    "scaler = StandardScaler()\n",
    "X_train_s = scaler.fit_transform(X_train)\n",
    "X_test_s = scaler.fit_transform(X_test)\n",
    "\n",
    "C_range = np.logspace(-2, 10, 13)\n",
    "param_grid = {'C':C_range}\n",
    "\n",
    "linsvm = LinearSVC(dual=False, class_weight='balanced')\n",
    "linsvm_cv = GridSearchCV(linsvm, param_grid, cv=5, scoring='recall')\n",
    "linsvm_cv.fit(X_train_s, y_train)\n",
    "\n",
    "print(\"Tuned SVM Parameters: {}\".format(linsvm_cv.best_params_)) \n",
    "print(\"Best score: {}\".format(linsvm_cv.best_score_))"
   ]
  },
  {
   "cell_type": "code",
   "execution_count": 178,
   "metadata": {},
   "outputs": [],
   "source": [
    "best_c = linsvm_cv.best_params_['C']"
   ]
  },
  {
   "cell_type": "code",
   "execution_count": 179,
   "metadata": {},
   "outputs": [
    {
     "name": "stdout",
     "output_type": "stream",
     "text": [
      "Model accuracy: 0.62\n"
     ]
    }
   ],
   "source": [
    "linsvm = LinearSVC(C=best_c, dual=False, class_weight='balanced')\n",
    "linsvm.fit(X_train_s, y_train)\n",
    "\n",
    "print(\"Model accuracy:\", accuracy_score(linsvm.predict(X_test_s), y_test))"
   ]
  },
  {
   "cell_type": "code",
   "execution_count": 180,
   "metadata": {},
   "outputs": [
    {
     "name": "stdout",
     "output_type": "stream",
     "text": [
      "[[64 48]\n",
      " [ 9 29]]\n"
     ]
    },
    {
     "data": {
      "image/png": "[encoded data removed]",
      "text/plain": [
       "<Figure size 432x288 with 2 Axes>"
      ]
     },
     "metadata": {},
     "output_type": "display_data"
    },
    {
     "name": "stdout",
     "output_type": "stream",
     "text": [
      "              precision    recall  f1-score   support\n",
      "\n",
      "           0       0.88      0.57      0.69       112\n",
      "           1       0.38      0.76      0.50        38\n",
      "\n",
      "   micro avg       0.62      0.62      0.62       150\n",
      "   macro avg       0.63      0.67      0.60       150\n",
      "weighted avg       0.75      0.62      0.64       150\n",
      "\n"
     ]
    }
   ],
   "source": [
    "y_pred = linsvm.predict(X_test_s)\n",
    "con_mat(linsvm, X_train_s, X_test_s, y_train, y_test, y_pred)"
   ]
  },
  {
   "cell_type": "markdown",
   "metadata": {},
   "source": [
    "### Upsampling the data"
   ]
  },
  {
   "cell_type": "markdown",
   "metadata": {},
   "source": [
    "SMOTE upsamples the response variable to match the independent variables. This is done over the training set."
   ]
  },
  {
   "cell_type": "code",
   "execution_count": 181,
   "metadata": {},
   "outputs": [
    {
     "name": "stdout",
     "output_type": "stream",
     "text": [
      "Distribution of response variable (upscaled training set):\n",
      "1    458\n",
      "0    458\n",
      "dtype: int64\n",
      "Mean: 0.5\n"
     ]
    }
   ],
   "source": [
    "# Upsampling the training set\n",
    "smt = SMOTE()\n",
    "X_train, y_train = smt.fit_sample(X_train, y_train)\n",
    "\n",
    "print(\"Distribution of response variable (upscaled training set):\")\n",
    "print(pd.Series(y_train).value_counts())\n",
    "print(\"Mean:\", y_train.mean())"
   ]
  },
  {
   "cell_type": "markdown",
   "metadata": {},
   "source": [
    "### Balanced Logistic Regression"
   ]
  },
  {
   "cell_type": "markdown",
   "metadata": {},
   "source": [
    "Now let's try the logistic regression again with the upsampled data."
   ]
  },
  {
   "cell_type": "code",
   "execution_count": 182,
   "metadata": {},
   "outputs": [
    {
     "name": "stdout",
     "output_type": "stream",
     "text": [
      "Tuned LR Parameters: {'C': 2.7825594022071245, 'penalty': 'l1'}\n",
      "Best score: 0.8100436681222707\n"
     ]
    }
   ],
   "source": [
    "# Parameter tuning the upsampled data on a logistic regression model\n",
    "penalty = ['l1', 'l2']\n",
    "Cs = np.logspace(0, 4, 10)\n",
    "param_grid = {'penalty':penalty,\n",
    "              'C':Cs}\n",
    "\n",
    "logreg = LogisticRegression(solver='liblinear')\n",
    "logreg_cv = GridSearchCV(logreg, param_grid, cv=5, scoring='recall')\n",
    "logreg_cv.fit(X_train, y_train)\n",
    "\n",
    "print(\"Tuned LR Parameters: {}\".format(logreg_cv.best_params_)) \n",
    "print(\"Best score: {}\".format(logreg_cv.best_score_))"
   ]
  },
  {
   "cell_type": "code",
   "execution_count": 183,
   "metadata": {},
   "outputs": [],
   "source": [
    "best_c = logreg_cv.best_params_['C']\n",
    "best_pen = logreg_cv.best_params_['penalty']"
   ]
  },
  {
   "cell_type": "code",
   "execution_count": 184,
   "metadata": {},
   "outputs": [
    {
     "name": "stdout",
     "output_type": "stream",
     "text": [
      "Model accuracy: 0.6333333333333333\n"
     ]
    }
   ],
   "source": [
    "logreg = LogisticRegression(penalty=best_pen, C=best_c, solver='liblinear')\n",
    "logreg.fit(X_train, y_train)\n",
    "\n",
    "print(\"Model accuracy:\", accuracy_score(logreg.predict(X_test), y_test))"
   ]
  },
  {
   "cell_type": "markdown",
   "metadata": {},
   "source": [
    "The accuracy decreased, but let's check the confusion matrix to see the full effects."
   ]
  },
  {
   "cell_type": "code",
   "execution_count": 185,
   "metadata": {},
   "outputs": [
    {
     "name": "stdout",
     "output_type": "stream",
     "text": [
      "[[67 45]\n",
      " [10 28]]\n"
     ]
    },
    {
     "data": {
      "image/png": "[encoded data removed]",
      "text/plain": [
       "<Figure size 432x288 with 2 Axes>"
      ]
     },
     "metadata": {},
     "output_type": "display_data"
    },
    {
     "name": "stdout",
     "output_type": "stream",
     "text": [
      "              precision    recall  f1-score   support\n",
      "\n",
      "           0       0.87      0.60      0.71       112\n",
      "           1       0.38      0.74      0.50        38\n",
      "\n",
      "   micro avg       0.63      0.63      0.63       150\n",
      "   macro avg       0.63      0.67      0.61       150\n",
      "weighted avg       0.75      0.63      0.66       150\n",
      "\n"
     ]
    }
   ],
   "source": [
    "y_pred = logreg.predict(X_test)\n",
    "con_mat(logreg, X_train, X_test, y_train, y_test, y_pred)"
   ]
  },
  {
   "cell_type": "markdown",
   "metadata": {},
   "source": [
    "The model has substantially improved. It did about as well as the logistic regression with balanced class weight. Precision increased in both the positive and negative, and recall increased in the positive. Negative class recall decreased, but in this case higher positive recall is preferred over negative. HYPO is a non-profit dealing in vital blood donation, and they have determined that overpreparing is better than underpreparing. Losing possible blood donations due to lack of supplies is worse in this instance."
   ]
  },
  {
   "cell_type": "markdown",
   "metadata": {},
   "source": [
    "## Random Forest Classification"
   ]
  },
  {
   "cell_type": "markdown",
   "metadata": {},
   "source": [
    "Tuning the parameters for the random forest classifier was very computationally expensive. Had it performed better, I would have gone back and worked through it some more, but decided to move on."
   ]
  },
  {
   "cell_type": "code",
   "execution_count": 186,
   "metadata": {},
   "outputs": [
    {
     "name": "stdout",
     "output_type": "stream",
     "text": [
      "Tuned RFC Parameters: {'bootstrap': False, 'max_depth': 10, 'max_features': 'auto', 'min_samples_leaf': 4, 'min_samples_split': 2, 'n_estimators': 20}\n",
      "Best score: 0.8034934497816594\n"
     ]
    },
    {
     "name": "stderr",
     "output_type": "stream",
     "text": [
      "/Users/josephpetersen/miniconda3/envs/springboard/lib/python3.7/site-packages/sklearn/model_selection/_search.py:841: DeprecationWarning: The default of the `iid` parameter will change from True to False in version 0.22 and will be removed in 0.24. This will change numeric results when test-set sizes are unequal.\n",
      "  DeprecationWarning)\n"
     ]
    }
   ],
   "source": [
    "n_estimators = [int(x) for x in np.linspace(10, 200, 20)]\n",
    "max_features = ['auto', 'sqrt']\n",
    "max_depth = [int(x) for x in np.linspace(10, 110, 11)]\n",
    "max_depth.append(None)\n",
    "min_samples_split = [2, 5, 10]\n",
    "min_samples_leaf = [1, 2, 4]\n",
    "bootstrap = [True, False]\n",
    "\n",
    "param_grid = {'n_estimators':n_estimators, \n",
    "              'max_features':max_features,\n",
    "              'max_depth':max_depth, \n",
    "              'min_samples_split':min_samples_split, \n",
    "              'min_samples_leaf':min_samples_leaf, \n",
    "              'bootstrap':bootstrap}\n",
    "\n",
    "rfc = RandomForestClassifier(random_state=23)\n",
    "rfc_cv = GridSearchCV(rfc, param_grid, cv=5, scoring='recall')\n",
    "rfc_cv.fit(X_train, y_train)\n",
    "\n",
    "print(\"Tuned RFC Parameters: {}\".format(rfc_cv.best_params_)) \n",
    "print(\"Best score: {}\".format(rfc_cv.best_score_))"
   ]
  },
  {
   "cell_type": "code",
   "execution_count": 187,
   "metadata": {},
   "outputs": [],
   "source": [
    "best_bs = rfc_cv.best_params_['bootstrap']\n",
    "best_mf = rfc_cv.best_params_['max_features']\n",
    "best_md = rfc_cv.best_params_['max_depth']\n",
    "best_msl = rfc_cv.best_params_['min_samples_leaf']\n",
    "best_mss = rfc_cv.best_params_['min_samples_split']\n",
    "best_ne = rfc_cv.best_params_['n_estimators']"
   ]
  },
  {
   "cell_type": "code",
   "execution_count": 188,
   "metadata": {},
   "outputs": [
    {
     "name": "stdout",
     "output_type": "stream",
     "text": [
      "0.68\n"
     ]
    }
   ],
   "source": [
    "rfc = RandomForestClassifier(n_estimators=best_ne, max_features=best_mf, bootstrap=best_bs, max_depth=best_md, \n",
    "                             min_samples_leaf=best_msl, min_samples_split=best_mss, random_state=23)\n",
    "rfc.fit(X_train, y_train)\n",
    "print(accuracy_score(rfc.predict(X_test), y_test))"
   ]
  },
  {
   "cell_type": "code",
   "execution_count": 189,
   "metadata": {},
   "outputs": [
    {
     "name": "stdout",
     "output_type": "stream",
     "text": [
      "[[87 25]\n",
      " [23 15]]\n"
     ]
    },
    {
     "data": {
      "image/png": "[encoded data removed]",
      "text/plain": [
       "<Figure size 432x288 with 2 Axes>"
      ]
     },
     "metadata": {},
     "output_type": "display_data"
    },
    {
     "name": "stdout",
     "output_type": "stream",
     "text": [
      "              precision    recall  f1-score   support\n",
      "\n",
      "           0       0.79      0.78      0.78       112\n",
      "           1       0.38      0.39      0.38        38\n",
      "\n",
      "   micro avg       0.68      0.68      0.68       150\n",
      "   macro avg       0.58      0.59      0.58       150\n",
      "weighted avg       0.69      0.68      0.68       150\n",
      "\n"
     ]
    }
   ],
   "source": [
    "y_pred = rfc.predict(X_test)\n",
    "con_mat(rfc, X_train, X_test, y_train, y_test, y_pred)"
   ]
  },
  {
   "cell_type": "markdown",
   "metadata": {},
   "source": [
    "## Support Vector Machine Classification"
   ]
  },
  {
   "cell_type": "markdown",
   "metadata": {},
   "source": [
    "Now let's take a look at a SVM model. SVM is particularly sensitive to the scale of the independent variables, so first we need to scale the data."
   ]
  },
  {
   "cell_type": "code",
   "execution_count": 66,
   "metadata": {},
   "outputs": [
    {
     "name": "stdout",
     "output_type": "stream",
     "text": [
      "Tuned SVM Parameters: {'C': 1000, 'gamma': 1}\n",
      "Best score: 0.7975756914610859\n"
     ]
    }
   ],
   "source": [
    "scaler = StandardScaler()\n",
    "X_train_s = scaler.fit_transform(X_train)\n",
    "X_test_s = scaler.fit_transform(X_test)\n",
    "\n",
    "Cs = [0.001, 0.01, 0.1, 1, 10, 100, 1000]\n",
    "gamma = [0.001, 0.01, 0.1, 1, 10, 100, 1000]\n",
    "param_grid = {'C':Cs, \n",
    "              'gamma':gamma}\n",
    "\n",
    "svm = SVC(kernel='rbf')\n",
    "svm_cv = GridSearchCV(svm, param_grid, cv=5, scoring='f1')\n",
    "svm_cv.fit(X_train_s, y_train)\n",
    "\n",
    "print(\"Tuned SVM Parameters: {}\".format(svm_cv.best_params_)) \n",
    "print(\"Best score: {}\".format(svm_cv.best_score_))"
   ]
  },
  {
   "cell_type": "code",
   "execution_count": 67,
   "metadata": {},
   "outputs": [],
   "source": [
    "best_c = svm_cv.best_params_['C']\n",
    "best_g = svm_cv.best_params_['gamma']"
   ]
  },
  {
   "cell_type": "code",
   "execution_count": 68,
   "metadata": {},
   "outputs": [
    {
     "name": "stdout",
     "output_type": "stream",
     "text": [
      "Model accuracy: 0.6\n"
     ]
    }
   ],
   "source": [
    "svm = SVC(kernel='rbf', C=best_c, gamma=best_g)\n",
    "svm.fit(X_train_s, y_train)\n",
    "\n",
    "print(\"Model accuracy:\", accuracy_score(svm.predict(X_test_s), y_test))"
   ]
  },
  {
   "cell_type": "code",
   "execution_count": 69,
   "metadata": {},
   "outputs": [
    {
     "name": "stdout",
     "output_type": "stream",
     "text": [
      "[[84 28]\n",
      " [32  6]]\n"
     ]
    },
    {
     "data": {
      "image/png": "[encoded data removed]",
      "text/plain": [
       "<Figure size 432x288 with 2 Axes>"
      ]
     },
     "metadata": {
      "needs_background": "light"
     },
     "output_type": "display_data"
    },
    {
     "name": "stdout",
     "output_type": "stream",
     "text": [
      "              precision    recall  f1-score   support\n",
      "\n",
      "           0       0.72      0.75      0.74       112\n",
      "           1       0.18      0.16      0.17        38\n",
      "\n",
      "   micro avg       0.60      0.60      0.60       150\n",
      "   macro avg       0.45      0.45      0.45       150\n",
      "weighted avg       0.59      0.60      0.59       150\n",
      "\n"
     ]
    }
   ],
   "source": [
    "y_pred = svm.predict(X_test_s)\n",
    "con_mat(svm, X_train_s, X_test_s, y_train, y_test, y_pred)"
   ]
  },
  {
   "cell_type": "markdown",
   "metadata": {},
   "source": [
    "SVM didn't perform very well in comparison to the logistic regression model. However, we can check a linear SVM."
   ]
  },
  {
   "cell_type": "markdown",
   "metadata": {},
   "source": [
    "## Linear Support Vector Machines"
   ]
  },
  {
   "cell_type": "code",
   "execution_count": 74,
   "metadata": {},
   "outputs": [
    {
     "name": "stdout",
     "output_type": "stream",
     "text": [
      "Tuned SVM Parameters: {'C': 0.01}\n",
      "Best score: 0.7969432314410481\n"
     ]
    }
   ],
   "source": [
    "scaler = StandardScaler()\n",
    "X_train_s = scaler.fit_transform(X_train)\n",
    "X_test_s = scaler.fit_transform(X_test)\n",
    "\n",
    "C_range = np.logspace(-2, 10, 13)\n",
    "param_grid = {'C':C_range}\n",
    "\n",
    "linsvm = LinearSVC(dual=False)\n",
    "linsvm_cv = GridSearchCV(linsvm, param_grid, cv=5, scoring='recall')\n",
    "linsvm_cv.fit(X_train_s, y_train)\n",
    "\n",
    "print(\"Tuned SVM Parameters: {}\".format(linsvm_cv.best_params_)) \n",
    "print(\"Best score: {}\".format(linsvm_cv.best_score_))"
   ]
  },
  {
   "cell_type": "code",
   "execution_count": 75,
   "metadata": {},
   "outputs": [],
   "source": [
    "best_c = linsvm_cv.best_params_['C']"
   ]
  },
  {
   "cell_type": "code",
   "execution_count": 76,
   "metadata": {},
   "outputs": [
    {
     "name": "stdout",
     "output_type": "stream",
     "text": [
      "Model accuracy: 0.5666666666666667\n"
     ]
    }
   ],
   "source": [
    "linsvm = LinearSVC(C=best_c, dual=False)\n",
    "linsvm.fit(X_train_s, y_train)\n",
    "\n",
    "print(\"Model accuracy:\", accuracy_score(linsvm.predict(X_test_s), y_test))"
   ]
  },
  {
   "cell_type": "code",
   "execution_count": 77,
   "metadata": {},
   "outputs": [
    {
     "name": "stdout",
     "output_type": "stream",
     "text": [
      "[[55 57]\n",
      " [ 8 30]]\n"
     ]
    },
    {
     "data": {
      "image/png": "[encoded data removed]",
      "text/plain": [
       "<Figure size 432x288 with 2 Axes>"
      ]
     },
     "metadata": {
      "needs_background": "light"
     },
     "output_type": "display_data"
    },
    {
     "name": "stdout",
     "output_type": "stream",
     "text": [
      "              precision    recall  f1-score   support\n",
      "\n",
      "           0       0.87      0.49      0.63       112\n",
      "           1       0.34      0.79      0.48        38\n",
      "\n",
      "   micro avg       0.57      0.57      0.57       150\n",
      "   macro avg       0.61      0.64      0.55       150\n",
      "weighted avg       0.74      0.57      0.59       150\n",
      "\n"
     ]
    }
   ],
   "source": [
    "y_pred = linsvm.predict(X_test_s)\n",
    "con_mat(linsvm, X_train_s, X_test_s, y_train, y_test, y_pred)"
   ]
  },
  {
   "cell_type": "markdown",
   "metadata": {},
   "source": [
    "The goal is to minimize false negatives, so in that regard the linear SVM model performed very well, on par or perhaps slightly better than the logistic regression model."
   ]
  },
  {
   "cell_type": "markdown",
   "metadata": {},
   "source": [
    "## K-Nearest Neighbors Classifier"
   ]
  },
  {
   "cell_type": "markdown",
   "metadata": {},
   "source": [
    "K-nearest neighbors takes the k neighbors of a point and has them perform a majority vote on what the point should be classified."
   ]
  },
  {
   "cell_type": "code",
   "execution_count": 82,
   "metadata": {},
   "outputs": [
    {
     "name": "stdout",
     "output_type": "stream",
     "text": [
      "Tuned KNN Parameters: {'n_neighbors': 3}\n",
      "Best score: 0.834061135371179\n"
     ]
    },
    {
     "name": "stderr",
     "output_type": "stream",
     "text": [
      "/Users/josephpetersen/miniconda3/envs/springboard/lib/python3.7/site-packages/sklearn/model_selection/_search.py:841: DeprecationWarning: The default of the `iid` parameter will change from True to False in version 0.22 and will be removed in 0.24. This will change numeric results when test-set sizes are unequal.\n",
      "  DeprecationWarning)\n"
     ]
    }
   ],
   "source": [
    "knn = KNeighborsClassifier()\n",
    "n_neighbors = range(3, 31)\n",
    "param_grid = {'n_neighbors':n_neighbors}\n",
    "knn_cv = GridSearchCV(knn, param_grid, cv=5, scoring='recall')\n",
    "knn_cv.fit(X_train, y_train)\n",
    "\n",
    "print(\"Tuned KNN Parameters: {}\".format(knn_cv.best_params_)) \n",
    "print(\"Best score: {}\".format(knn_cv.best_score_))"
   ]
  },
  {
   "cell_type": "code",
   "execution_count": 83,
   "metadata": {},
   "outputs": [],
   "source": [
    "best_n = knn_cv.best_params_['n_neighbors']"
   ]
  },
  {
   "cell_type": "code",
   "execution_count": 84,
   "metadata": {},
   "outputs": [
    {
     "name": "stdout",
     "output_type": "stream",
     "text": [
      "Model accuracy: 0.6333333333333333\n"
     ]
    }
   ],
   "source": [
    "knn = KNeighborsClassifier(n_neighbors=best_n)\n",
    "knn.fit(X_train, y_train)\n",
    "\n",
    "print(\"Model accuracy:\", accuracy_score(knn.predict(X_test), y_test))"
   ]
  },
  {
   "cell_type": "code",
   "execution_count": 85,
   "metadata": {},
   "outputs": [
    {
     "name": "stdout",
     "output_type": "stream",
     "text": [
      "[[77 35]\n",
      " [20 18]]\n"
     ]
    },
    {
     "data": {
      "image/png": "[encoded data removed]",
      "text/plain": [
       "<Figure size 432x288 with 2 Axes>"
      ]
     },
     "metadata": {
      "needs_background": "light"
     },
     "output_type": "display_data"
    },
    {
     "name": "stdout",
     "output_type": "stream",
     "text": [
      "              precision    recall  f1-score   support\n",
      "\n",
      "           0       0.79      0.69      0.74       112\n",
      "           1       0.34      0.47      0.40        38\n",
      "\n",
      "   micro avg       0.63      0.63      0.63       150\n",
      "   macro avg       0.57      0.58      0.57       150\n",
      "weighted avg       0.68      0.63      0.65       150\n",
      "\n"
     ]
    }
   ],
   "source": [
    "y_pred = knn.predict(X_test)\n",
    "con_mat(knn, X_train, X_test, y_train, y_test, y_pred)"
   ]
  },
  {
   "cell_type": "markdown",
   "metadata": {},
   "source": [
    "K-nearest neighbors did not perform better than either linear svm for logistic regression."
   ]
  },
  {
   "cell_type": "markdown",
   "metadata": {},
   "source": [
    "## Logistic Regression and LinearSVM on the Smaller Dataset"
   ]
  },
  {
   "cell_type": "markdown",
   "metadata": {},
   "source": [
    "The frequency column is just a calculation of total_times_donated / months_since_first. It's possible the model could improve is we only used the frequency column and the one column not included in its calculation."
   ]
  },
  {
   "cell_type": "code",
   "execution_count": 190,
   "metadata": {},
   "outputs": [
    {
     "data": {
      "text/html": [
       "<div>\n",
       "<style scoped>\n",
       "    .dataframe tbody tr th:only-of-type {\n",
       "        vertical-align: middle;\n",
       "    }\n",
       "\n",
       "    .dataframe tbody tr th {\n",
       "        vertical-align: top;\n",
       "    }\n",
       "\n",
       "    .dataframe thead th {\n",
       "        text-align: right;\n",
       "    }\n",
       "</style>\n",
       "<table border=\"1\" class=\"dataframe\">\n",
       "  <thead>\n",
       "    <tr style=\"text-align: right;\">\n",
       "      <th></th>\n",
       "      <th>months_since_first</th>\n",
       "      <th>months_since_last</th>\n",
       "      <th>total_times_donated</th>\n",
       "      <th>frequency</th>\n",
       "      <th>donated_march_2007</th>\n",
       "    </tr>\n",
       "  </thead>\n",
       "  <tbody>\n",
       "    <tr>\n",
       "      <th>0</th>\n",
       "      <td>98</td>\n",
       "      <td>2</td>\n",
       "      <td>50</td>\n",
       "      <td>1.960000</td>\n",
       "      <td>1</td>\n",
       "    </tr>\n",
       "    <tr>\n",
       "      <th>1</th>\n",
       "      <td>28</td>\n",
       "      <td>0</td>\n",
       "      <td>13</td>\n",
       "      <td>2.153846</td>\n",
       "      <td>1</td>\n",
       "    </tr>\n",
       "    <tr>\n",
       "      <th>2</th>\n",
       "      <td>35</td>\n",
       "      <td>1</td>\n",
       "      <td>16</td>\n",
       "      <td>2.187500</td>\n",
       "      <td>1</td>\n",
       "    </tr>\n",
       "    <tr>\n",
       "      <th>3</th>\n",
       "      <td>45</td>\n",
       "      <td>2</td>\n",
       "      <td>20</td>\n",
       "      <td>2.250000</td>\n",
       "      <td>1</td>\n",
       "    </tr>\n",
       "    <tr>\n",
       "      <th>4</th>\n",
       "      <td>77</td>\n",
       "      <td>1</td>\n",
       "      <td>24</td>\n",
       "      <td>3.208333</td>\n",
       "      <td>0</td>\n",
       "    </tr>\n",
       "  </tbody>\n",
       "</table>\n",
       "</div>"
      ],
      "text/plain": [
       "   months_since_first  months_since_last  total_times_donated  frequency  \\\n",
       "0                  98                  2                   50   1.960000   \n",
       "1                  28                  0                   13   2.153846   \n",
       "2                  35                  1                   16   2.187500   \n",
       "3                  45                  2                   20   2.250000   \n",
       "4                  77                  1                   24   3.208333   \n",
       "\n",
       "   donated_march_2007  \n",
       "0                   1  \n",
       "1                   1  \n",
       "2                   1  \n",
       "3                   1  \n",
       "4                   0  "
      ]
     },
     "execution_count": 190,
     "metadata": {},
     "output_type": "execute_result"
    }
   ],
   "source": [
    "# The full dataset\n",
    "df.head()"
   ]
  },
  {
   "cell_type": "code",
   "execution_count": 114,
   "metadata": {},
   "outputs": [
    {
     "data": {
      "text/html": [
       "<div>\n",
       "<style scoped>\n",
       "    .dataframe tbody tr th:only-of-type {\n",
       "        vertical-align: middle;\n",
       "    }\n",
       "\n",
       "    .dataframe tbody tr th {\n",
       "        vertical-align: top;\n",
       "    }\n",
       "\n",
       "    .dataframe thead th {\n",
       "        text-align: right;\n",
       "    }\n",
       "</style>\n",
       "<table border=\"1\" class=\"dataframe\">\n",
       "  <thead>\n",
       "    <tr style=\"text-align: right;\">\n",
       "      <th></th>\n",
       "      <th>months_since_last</th>\n",
       "      <th>frequency</th>\n",
       "      <th>donated_march_2007</th>\n",
       "    </tr>\n",
       "  </thead>\n",
       "  <tbody>\n",
       "    <tr>\n",
       "      <th>0</th>\n",
       "      <td>2</td>\n",
       "      <td>1.960000</td>\n",
       "      <td>1</td>\n",
       "    </tr>\n",
       "    <tr>\n",
       "      <th>1</th>\n",
       "      <td>0</td>\n",
       "      <td>2.153846</td>\n",
       "      <td>1</td>\n",
       "    </tr>\n",
       "    <tr>\n",
       "      <th>2</th>\n",
       "      <td>1</td>\n",
       "      <td>2.187500</td>\n",
       "      <td>1</td>\n",
       "    </tr>\n",
       "    <tr>\n",
       "      <th>3</th>\n",
       "      <td>2</td>\n",
       "      <td>2.250000</td>\n",
       "      <td>1</td>\n",
       "    </tr>\n",
       "    <tr>\n",
       "      <th>4</th>\n",
       "      <td>1</td>\n",
       "      <td>3.208333</td>\n",
       "      <td>0</td>\n",
       "    </tr>\n",
       "  </tbody>\n",
       "</table>\n",
       "</div>"
      ],
      "text/plain": [
       "   months_since_last  frequency  donated_march_2007\n",
       "0                  2   1.960000                   1\n",
       "1                  0   2.153846                   1\n",
       "2                  1   2.187500                   1\n",
       "3                  2   2.250000                   1\n",
       "4                  1   3.208333                   0"
      ]
     },
     "execution_count": 114,
     "metadata": {},
     "output_type": "execute_result"
    }
   ],
   "source": [
    "# The dataset with just frequency and months_since_last\n",
    "df_min.head()"
   ]
  },
  {
   "cell_type": "code",
   "execution_count": 144,
   "metadata": {},
   "outputs": [
    {
     "name": "stdout",
     "output_type": "stream",
     "text": [
      "Distribution of response variable (upscaled training set):\n",
      "1    458\n",
      "0    458\n",
      "dtype: int64\n",
      "Mean: 0.5\n"
     ]
    }
   ],
   "source": [
    "# Splitting into training and testing sets and upsampling\n",
    "X_train, X_test, y_train, y_test = train_test_split(df_min.drop('donated_march_2007', axis=1).values, \n",
    "                                             df_min.donated_march_2007.values, random_state=23, test_size=0.2)\n",
    "\n",
    "smt = SMOTE()\n",
    "X_train, y_train = smt.fit_sample(X_train, y_train)\n",
    "\n",
    "print(\"Distribution of response variable (upscaled training set):\")\n",
    "print(pd.Series(y_train).value_counts())\n",
    "print(\"Mean:\", y_train.mean())"
   ]
  },
  {
   "cell_type": "markdown",
   "metadata": {},
   "source": [
    "We're going to try the two models that were more effective on the full set, logistic regression and linear svm."
   ]
  },
  {
   "cell_type": "code",
   "execution_count": 145,
   "metadata": {},
   "outputs": [
    {
     "name": "stdout",
     "output_type": "stream",
     "text": [
      "Tuned LR Parameters: {'C': 0.1, 'penalty': 'l1'}\n",
      "Best score: 0.7816593886462883\n"
     ]
    }
   ],
   "source": [
    "Cs = [0.001, 0.01, 0.1, 1, 10, 100]\n",
    "penalty =['l1', 'l2']\n",
    "param_grid = {'C':Cs, \n",
    "              'penalty':penalty}\n",
    "logreg = LogisticRegression(solver='liblinear')\n",
    "logreg_cv = GridSearchCV(logreg, param_grid, cv=5, scoring='recall')\n",
    "logreg_cv.fit(X_train, y_train)\n",
    "\n",
    "print(\"Tuned LR Parameters: {}\".format(logreg_cv.best_params_)) \n",
    "print(\"Best score: {}\".format(logreg_cv.best_score_))"
   ]
  },
  {
   "cell_type": "code",
   "execution_count": 146,
   "metadata": {},
   "outputs": [],
   "source": [
    "best_c = logreg_cv.best_params_['C']\n",
    "best_p = logreg_cv.best_params_['penalty']"
   ]
  },
  {
   "cell_type": "code",
   "execution_count": 147,
   "metadata": {},
   "outputs": [
    {
     "name": "stdout",
     "output_type": "stream",
     "text": [
      "Model accuracy: 0.62\n"
     ]
    }
   ],
   "source": [
    "logreg = LogisticRegression(C=best_c, penalty=best_p, solver='liblinear')\n",
    "logreg.fit(X_train, y_train)\n",
    "print(\"Model accuracy:\", accuracy_score(logreg.predict(X_test), y_test))"
   ]
  },
  {
   "cell_type": "code",
   "execution_count": 148,
   "metadata": {},
   "outputs": [
    {
     "name": "stdout",
     "output_type": "stream",
     "text": [
      "[[66 46]\n",
      " [11 27]]\n"
     ]
    },
    {
     "data": {
      "image/png": "[encoded data removed]",
      "text/plain": [
       "<Figure size 432x288 with 2 Axes>"
      ]
     },
     "metadata": {
      "needs_background": "light"
     },
     "output_type": "display_data"
    },
    {
     "name": "stdout",
     "output_type": "stream",
     "text": [
      "              precision    recall  f1-score   support\n",
      "\n",
      "           0       0.86      0.59      0.70       112\n",
      "           1       0.37      0.71      0.49        38\n",
      "\n",
      "   micro avg       0.62      0.62      0.62       150\n",
      "   macro avg       0.61      0.65      0.59       150\n",
      "weighted avg       0.73      0.62      0.64       150\n",
      "\n"
     ]
    }
   ],
   "source": [
    "y_pred = logreg.predict(X_test)\n",
    "con_mat(logreg, X_train, X_test, y_train, y_test, y_pred)"
   ]
  },
  {
   "cell_type": "markdown",
   "metadata": {},
   "source": [
    "The logistic regression model performed about as well as it did on the full dataset."
   ]
  },
  {
   "cell_type": "code",
   "execution_count": 149,
   "metadata": {},
   "outputs": [
    {
     "name": "stdout",
     "output_type": "stream",
     "text": [
      "Tuned SVM Parameters: {'C': 0.01}\n",
      "Best score: 0.7838427947598253\n"
     ]
    }
   ],
   "source": [
    "scaler = StandardScaler()\n",
    "X_train_s = scaler.fit_transform(X_train)\n",
    "X_test_s = scaler.fit_transform(X_test)\n",
    "\n",
    "C_range = np.logspace(-2, 10, 13)\n",
    "param_grid = {'C':C_range}\n",
    "\n",
    "linsvm = LinearSVC(dual=False)\n",
    "linsvm_cv = GridSearchCV(linsvm, param_grid, cv=5, scoring='recall')\n",
    "linsvm_cv.fit(X_train_s, y_train)\n",
    "\n",
    "print(\"Tuned SVM Parameters: {}\".format(linsvm_cv.best_params_)) \n",
    "print(\"Best score: {}\".format(linsvm_cv.best_score_))"
   ]
  },
  {
   "cell_type": "code",
   "execution_count": 150,
   "metadata": {},
   "outputs": [],
   "source": [
    "best_c = linsvm_cv.best_params_['C']"
   ]
  },
  {
   "cell_type": "code",
   "execution_count": 151,
   "metadata": {},
   "outputs": [
    {
     "name": "stdout",
     "output_type": "stream",
     "text": [
      "Model accuracy: 0.6066666666666667\n"
     ]
    }
   ],
   "source": [
    "linsvm = LinearSVC(C=best_c, dual=False)\n",
    "linsvm.fit(X_train_s, y_train)\n",
    "\n",
    "print(\"Model accuracy:\", accuracy_score(linsvm.predict(X_test_s), y_test))"
   ]
  },
  {
   "cell_type": "code",
   "execution_count": 152,
   "metadata": {},
   "outputs": [
    {
     "name": "stdout",
     "output_type": "stream",
     "text": [
      "[[60 52]\n",
      " [ 7 31]]\n"
     ]
    },
    {
     "data": {
      "image/png": "[encoded data removed]",
      "text/plain": [
       "<Figure size 432x288 with 2 Axes>"
      ]
     },
     "metadata": {
      "needs_background": "light"
     },
     "output_type": "display_data"
    },
    {
     "name": "stdout",
     "output_type": "stream",
     "text": [
      "              precision    recall  f1-score   support\n",
      "\n",
      "           0       0.90      0.54      0.67       112\n",
      "           1       0.37      0.82      0.51        38\n",
      "\n",
      "   micro avg       0.61      0.61      0.61       150\n",
      "   macro avg       0.63      0.68      0.59       150\n",
      "weighted avg       0.76      0.61      0.63       150\n",
      "\n"
     ]
    }
   ],
   "source": [
    "y_pred = linsvm.predict(X_test_s)\n",
    "con_mat(linsvm, X_train_s, X_test_s, y_train, y_test, y_pred)"
   ]
  },
  {
   "cell_type": "markdown",
   "metadata": {},
   "source": [
    "The linear svm model perfomed slightly better than it did on the full dataset."
   ]
  },
  {
   "cell_type": "code",
   "execution_count": 153,
   "metadata": {},
   "outputs": [
    {
     "name": "stdout",
     "output_type": "stream",
     "text": [
      "Acc. on training data: 0.69\n",
      "Acc. on test data:     0.61\n"
     ]
    }
   ],
   "source": [
    "train_acc = linsvm.score(X_train_s, y_train)\n",
    "test_acc = linsvm.score(X_test_s, y_test)\n",
    "\n",
    "print(\"Acc. on training data: %0.2f\" % (train_acc))\n",
    "print(\"Acc. on test data:     %0.2f\" % (test_acc))"
   ]
  },
  {
   "cell_type": "markdown",
   "metadata": {},
   "source": [
    "The two models that have been the most effective are the logistic regression model and the linear svm. The logistic regression model has fewer false positives but slightly more false negatives while the linear svm model has fewer false negatives but more false positives."
   ]
  },
  {
   "cell_type": "markdown",
   "metadata": {},
   "source": [
    "Let's try adjusting the threshold on this last model. "
   ]
  },
  {
   "cell_type": "code",
   "execution_count": 154,
   "metadata": {},
   "outputs": [
    {
     "data": {
      "text/plain": [
       "CalibratedClassifierCV(base_estimator=LinearSVC(C=0.01, class_weight=None, dual=False, fit_intercept=True,\n",
       "     intercept_scaling=1, loss='squared_hinge', max_iter=1000,\n",
       "     multi_class='ovr', penalty='l2', random_state=None, tol=0.0001,\n",
       "     verbose=0),\n",
       "            cv=5, method='sigmoid')"
      ]
     },
     "execution_count": 154,
     "metadata": {},
     "output_type": "execute_result"
    }
   ],
   "source": [
    "cal = CalibratedClassifierCV(linsvm, cv=5)\n",
    "cal.fit(X_train_s, y_train)"
   ]
  },
  {
   "cell_type": "code",
   "execution_count": 155,
   "metadata": {},
   "outputs": [
    {
     "name": "stdout",
     "output_type": "stream",
     "text": [
      "[[61 51]\n",
      " [ 8 30]]\n"
     ]
    },
    {
     "data": {
      "image/png": "[encoded data removed]",
      "text/plain": [
       "<Figure size 432x288 with 2 Axes>"
      ]
     },
     "metadata": {
      "needs_background": "light"
     },
     "output_type": "display_data"
    },
    {
     "name": "stdout",
     "output_type": "stream",
     "text": [
      "              precision    recall  f1-score   support\n",
      "\n",
      "           0       0.88      0.54      0.67       112\n",
      "           1       0.37      0.79      0.50        38\n",
      "\n",
      "   micro avg       0.61      0.61      0.61       150\n",
      "   macro avg       0.63      0.67      0.59       150\n",
      "weighted avg       0.75      0.61      0.63       150\n",
      "\n"
     ]
    }
   ],
   "source": [
    "y_pred = cal.predict_proba(X_test_s)\n",
    "y_pred_adj = adjusted_threshold(y_pred, 0.49)\n",
    "\n",
    "con_mat(linsvm, X_train_s, X_test_s, y_train, y_test, y_pred_adj)"
   ]
  },
  {
   "cell_type": "markdown",
   "metadata": {},
   "source": [
    "Adjusting the threshold has a higher effect on the number of false positives given the unbalanced response variable. Of the two models, it's a question of what HYPO would prefer. The initial goal was to minimize false negatives. In that regard, the linear svm model is the most effective."
   ]
  },
  {
   "cell_type": "markdown",
   "metadata": {},
   "source": [
    "## Dataset without Frequency"
   ]
  },
  {
   "cell_type": "code",
   "execution_count": 143,
   "metadata": {},
   "outputs": [
    {
     "data": {
      "text/html": [
       "<div>\n",
       "<style scoped>\n",
       "    .dataframe tbody tr th:only-of-type {\n",
       "        vertical-align: middle;\n",
       "    }\n",
       "\n",
       "    .dataframe tbody tr th {\n",
       "        vertical-align: top;\n",
       "    }\n",
       "\n",
       "    .dataframe thead th {\n",
       "        text-align: right;\n",
       "    }\n",
       "</style>\n",
       "<table border=\"1\" class=\"dataframe\">\n",
       "  <thead>\n",
       "    <tr style=\"text-align: right;\">\n",
       "      <th></th>\n",
       "      <th>months_since_first</th>\n",
       "      <th>months_since_last</th>\n",
       "      <th>total_times_donated</th>\n",
       "      <th>donated_march_2007</th>\n",
       "    </tr>\n",
       "  </thead>\n",
       "  <tbody>\n",
       "    <tr>\n",
       "      <th>0</th>\n",
       "      <td>98</td>\n",
       "      <td>2</td>\n",
       "      <td>50</td>\n",
       "      <td>1</td>\n",
       "    </tr>\n",
       "    <tr>\n",
       "      <th>1</th>\n",
       "      <td>28</td>\n",
       "      <td>0</td>\n",
       "      <td>13</td>\n",
       "      <td>1</td>\n",
       "    </tr>\n",
       "    <tr>\n",
       "      <th>2</th>\n",
       "      <td>35</td>\n",
       "      <td>1</td>\n",
       "      <td>16</td>\n",
       "      <td>1</td>\n",
       "    </tr>\n",
       "    <tr>\n",
       "      <th>3</th>\n",
       "      <td>45</td>\n",
       "      <td>2</td>\n",
       "      <td>20</td>\n",
       "      <td>1</td>\n",
       "    </tr>\n",
       "    <tr>\n",
       "      <th>4</th>\n",
       "      <td>77</td>\n",
       "      <td>1</td>\n",
       "      <td>24</td>\n",
       "      <td>0</td>\n",
       "    </tr>\n",
       "  </tbody>\n",
       "</table>\n",
       "</div>"
      ],
      "text/plain": [
       "   months_since_first  months_since_last  total_times_donated  \\\n",
       "0                  98                  2                   50   \n",
       "1                  28                  0                   13   \n",
       "2                  35                  1                   16   \n",
       "3                  45                  2                   20   \n",
       "4                  77                  1                   24   \n",
       "\n",
       "   donated_march_2007  \n",
       "0                   1  \n",
       "1                   1  \n",
       "2                   1  \n",
       "3                   1  \n",
       "4                   0  "
      ]
     },
     "execution_count": 143,
     "metadata": {},
     "output_type": "execute_result"
    }
   ],
   "source": [
    "df_nf.head()"
   ]
  },
  {
   "cell_type": "code",
   "execution_count": 156,
   "metadata": {},
   "outputs": [
    {
     "name": "stdout",
     "output_type": "stream",
     "text": [
      "Distribution of response variable (upscaled training set):\n",
      "1    458\n",
      "0    458\n",
      "dtype: int64\n",
      "Mean: 0.5\n"
     ]
    }
   ],
   "source": [
    "X_train, X_test, y_train, y_test = train_test_split(df_nf.drop('donated_march_2007', axis=1).values, \n",
    "                                             df_nf.donated_march_2007.values, random_state=23, test_size=0.2)\n",
    "\n",
    "smt = SMOTE()\n",
    "X_train, y_train = smt.fit_sample(X_train, y_train)\n",
    "\n",
    "print(\"Distribution of response variable (upscaled training set):\")\n",
    "print(pd.Series(y_train).value_counts())\n",
    "print(\"Mean:\", y_train.mean())"
   ]
  },
  {
   "cell_type": "code",
   "execution_count": 157,
   "metadata": {},
   "outputs": [
    {
     "name": "stdout",
     "output_type": "stream",
     "text": [
      "Tuned LR Parameters: {'C': 1, 'penalty': 'l2'}\n",
      "Best score: 0.7641921397379913\n"
     ]
    }
   ],
   "source": [
    "Cs = [0.001, 0.01, 0.1, 1, 10, 100]\n",
    "penalty =['l1', 'l2']\n",
    "param_grid = {'C':Cs, \n",
    "              'penalty':penalty}\n",
    "logreg = LogisticRegression(solver='liblinear')\n",
    "logreg_cv = GridSearchCV(logreg, param_grid, cv=5, scoring='recall')\n",
    "logreg_cv.fit(X_train, y_train)\n",
    "\n",
    "print(\"Tuned LR Parameters: {}\".format(logreg_cv.best_params_)) \n",
    "print(\"Best score: {}\".format(logreg_cv.best_score_))"
   ]
  },
  {
   "cell_type": "code",
   "execution_count": 158,
   "metadata": {},
   "outputs": [],
   "source": [
    "best_c = logreg_cv.best_params_['C']\n",
    "best_p = logreg_cv.best_params_['penalty']"
   ]
  },
  {
   "cell_type": "code",
   "execution_count": 159,
   "metadata": {},
   "outputs": [
    {
     "name": "stdout",
     "output_type": "stream",
     "text": [
      "Model accuracy: 0.6466666666666666\n"
     ]
    }
   ],
   "source": [
    "logreg = LogisticRegression(C=best_c, penalty=best_p, solver='liblinear')\n",
    "logreg.fit(X_train, y_train)\n",
    "print(\"Model accuracy:\", accuracy_score(logreg.predict(X_test), y_test))"
   ]
  },
  {
   "cell_type": "code",
   "execution_count": 160,
   "metadata": {},
   "outputs": [
    {
     "name": "stdout",
     "output_type": "stream",
     "text": [
      "[[68 44]\n",
      " [ 9 29]]\n"
     ]
    },
    {
     "data": {
      "image/png": "[encoded data removed]",
      "text/plain": [
       "<Figure size 432x288 with 2 Axes>"
      ]
     },
     "metadata": {
      "needs_background": "light"
     },
     "output_type": "display_data"
    },
    {
     "name": "stdout",
     "output_type": "stream",
     "text": [
      "              precision    recall  f1-score   support\n",
      "\n",
      "           0       0.88      0.61      0.72       112\n",
      "           1       0.40      0.76      0.52        38\n",
      "\n",
      "   micro avg       0.65      0.65      0.65       150\n",
      "   macro avg       0.64      0.69      0.62       150\n",
      "weighted avg       0.76      0.65      0.67       150\n",
      "\n"
     ]
    }
   ],
   "source": [
    "y_pred = logreg.predict(X_test)\n",
    "con_mat(logreg, X_train, X_test, y_train, y_test, y_pred)"
   ]
  },
  {
   "cell_type": "code",
   "execution_count": 161,
   "metadata": {},
   "outputs": [
    {
     "name": "stdout",
     "output_type": "stream",
     "text": [
      "Tuned SVM Parameters: {'C': 0.01}\n",
      "Best score: 0.7729257641921398\n"
     ]
    },
    {
     "name": "stderr",
     "output_type": "stream",
     "text": [
      "/Users/josephpetersen/miniconda3/envs/springboard/lib/python3.7/site-packages/sklearn/utils/validation.py:595: DataConversionWarning: Data with input dtype int64 was converted to float64 by StandardScaler.\n",
      "  warnings.warn(msg, DataConversionWarning)\n",
      "/Users/josephpetersen/miniconda3/envs/springboard/lib/python3.7/site-packages/sklearn/utils/validation.py:595: DataConversionWarning: Data with input dtype int64 was converted to float64 by StandardScaler.\n",
      "  warnings.warn(msg, DataConversionWarning)\n",
      "/Users/josephpetersen/miniconda3/envs/springboard/lib/python3.7/site-packages/sklearn/utils/validation.py:595: DataConversionWarning: Data with input dtype int64 was converted to float64 by StandardScaler.\n",
      "  warnings.warn(msg, DataConversionWarning)\n",
      "/Users/josephpetersen/miniconda3/envs/springboard/lib/python3.7/site-packages/sklearn/utils/validation.py:595: DataConversionWarning: Data with input dtype int64 was converted to float64 by StandardScaler.\n",
      "  warnings.warn(msg, DataConversionWarning)\n"
     ]
    }
   ],
   "source": [
    "scaler = StandardScaler()\n",
    "X_train_s = scaler.fit_transform(X_train)\n",
    "X_test_s = scaler.fit_transform(X_test)\n",
    "\n",
    "C_range = np.logspace(-2, 10, 13)\n",
    "param_grid = {'C':C_range}\n",
    "\n",
    "linsvm = LinearSVC(dual=False)\n",
    "linsvm_cv = GridSearchCV(linsvm, param_grid, cv=5, scoring='recall')\n",
    "linsvm_cv.fit(X_train_s, y_train)\n",
    "\n",
    "print(\"Tuned SVM Parameters: {}\".format(linsvm_cv.best_params_)) \n",
    "print(\"Best score: {}\".format(linsvm_cv.best_score_))"
   ]
  },
  {
   "cell_type": "code",
   "execution_count": 162,
   "metadata": {},
   "outputs": [],
   "source": [
    "best_c = linsvm_cv.best_params_['C']"
   ]
  },
  {
   "cell_type": "code",
   "execution_count": 163,
   "metadata": {},
   "outputs": [
    {
     "name": "stdout",
     "output_type": "stream",
     "text": [
      "Model accuracy: 0.56\n"
     ]
    }
   ],
   "source": [
    "linsvm = LinearSVC(C=best_c, dual=False)\n",
    "linsvm.fit(X_train_s, y_train)\n",
    "\n",
    "print(\"Model accuracy:\", accuracy_score(linsvm.predict(X_test_s), y_test))"
   ]
  },
  {
   "cell_type": "code",
   "execution_count": 164,
   "metadata": {},
   "outputs": [
    {
     "name": "stdout",
     "output_type": "stream",
     "text": [
      "[[55 57]\n",
      " [ 9 29]]\n"
     ]
    },
    {
     "data": {
      "image/png": "[encoded data removed]",
      "text/plain": [
       "<Figure size 432x288 with 2 Axes>"
      ]
     },
     "metadata": {
      "needs_background": "light"
     },
     "output_type": "display_data"
    },
    {
     "name": "stdout",
     "output_type": "stream",
     "text": [
      "              precision    recall  f1-score   support\n",
      "\n",
      "           0       0.86      0.49      0.62       112\n",
      "           1       0.34      0.76      0.47        38\n",
      "\n",
      "   micro avg       0.56      0.56      0.56       150\n",
      "   macro avg       0.60      0.63      0.55       150\n",
      "weighted avg       0.73      0.56      0.59       150\n",
      "\n"
     ]
    }
   ],
   "source": [
    "y_pred = linsvm.predict(X_test_s)\n",
    "con_mat(linsvm, X_train_s, X_test_s, y_train, y_test, y_pred)"
   ]
  },
  {
   "cell_type": "code",
   "execution_count": null,
   "metadata": {},
   "outputs": [],
   "source": []
  }
 ],
 "metadata": {
  "kernelspec": {
   "display_name": "Python 3",
   "language": "python",
   "name": "python3"
  },
  "language_info": {
   "codemirror_mode": {
    "name": "ipython",
    "version": 3
   },
   "file_extension": ".py",
   "mimetype": "text/x-python",
   "name": "python",
   "nbconvert_exporter": "python",
   "pygments_lexer": "ipython3",
   "version": "3.7.2"
  }
 },
 "nbformat": 4,
 "nbformat_minor": 2
}
